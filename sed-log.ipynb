{
 "cells": [
  {
   "cell_type": "code",
   "execution_count": 1,
   "id": "25def28e",
   "metadata": {},
   "outputs": [
    {
     "name": "stderr",
     "output_type": "stream",
     "text": [
      "C:\\Users\\RGHS\\anaconda3\\lib\\site-packages\\drawSvg\\raster.py:18: RuntimeWarning: Failed to import CairoSVG. drawSvg will be unable to output PNG or other raster image formats. See https://github.com/cduck/drawSvg#prerequisites for more details.\n",
      "Original OSError: no library called \"cairo\" was found\n",
      "cannot load library 'C:\\GTK\\bin\\libcairo-2.dll': error 0xc1\n",
      "cannot load library 'libcairo.so.2': error 0x7e\n",
      "cannot load library 'libcairo.2.dylib': error 0x7e\n",
      "cannot load library 'libcairo-2.dll': error 0xc1\n",
      "  warnings.warn(msg, RuntimeWarning)\n"
     ]
    }
   ],
   "source": [
    "import numpy as np\n",
    "import pandas as pd\n",
    "import drawings as dr"
   ]
  },
  {
   "cell_type": "code",
   "execution_count": 2,
   "id": "42f69bc9",
   "metadata": {},
   "outputs": [],
   "source": [
    "default = True"
   ]
  },
  {
   "cell_type": "code",
   "execution_count": 3,
   "id": "e7565343",
   "metadata": {},
   "outputs": [],
   "source": [
    "if(default is True):\n",
    "    gs_codes, gs_widths = dr.grainsize()\n",
    "    fa_codes, fa_colors = dr.faciesList()"
   ]
  },
  {
   "cell_type": "code",
   "execution_count": null,
   "id": "39bb950f",
   "metadata": {},
   "outputs": [],
   "source": []
  }
 ],
 "metadata": {
  "kernelspec": {
   "display_name": "Python 3 (ipykernel)",
   "language": "python",
   "name": "python3"
  },
  "language_info": {
   "codemirror_mode": {
    "name": "ipython",
    "version": 3
   },
   "file_extension": ".py",
   "mimetype": "text/x-python",
   "name": "python",
   "nbconvert_exporter": "python",
   "pygments_lexer": "ipython3",
   "version": "3.8.11"
  }
 },
 "nbformat": 4,
 "nbformat_minor": 5
}
