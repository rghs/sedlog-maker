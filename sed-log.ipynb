{
 "cells": [
  {
   "cell_type": "markdown",
   "id": "898d1020",
   "metadata": {},
   "source": [
    "# Sed log maker"
   ]
  },
  {
   "cell_type": "markdown",
   "id": "d1a7163a",
   "metadata": {},
   "source": [
    "Basic program to produce sedimentary logs. See example input file for required format.\n",
    "\n",
    "Prerequisites:\n",
    "- Numpy\n",
    "- Pandas\n",
    "- drawSvg\n",
    "\n",
    "Most Python installs will include numpy and pandas by default, but probably not drawSvg. It can be obtained from PyPi as follows:\n",
    "\n",
    "`$ pip3 install drawSvg`"
   ]
  },
  {
   "cell_type": "markdown",
   "id": "f46ff53b",
   "metadata": {},
   "source": [
    "Import modules for running program. If drawings fails to import, uncomment the syspath block and make sure your present working directory is the directory this repo is cloned to. Running this cell will almost definitely throw an error about Cairo not being installed, but unless you desperately have to export your file as a PNG, you can ignore this."
   ]
  },
  {
   "cell_type": "code",
   "execution_count": null,
   "id": "25def28e",
   "metadata": {},
   "outputs": [],
   "source": [
    "import numpy as np\n",
    "import pandas as pd\n",
    "\n",
    "# Leave this block commented unless the program has trouble importing 'drawings'\n",
    "#import sys\n",
    "#if sys.path[-1] != pwd():\n",
    "#    sys.path.append(pwd())\n",
    "\n",
    "import drawings as dr"
   ]
  },
  {
   "cell_type": "markdown",
   "id": "3d76073d",
   "metadata": {},
   "source": [
    "## Input parameters"
   ]
  },
  {
   "cell_type": "markdown",
   "id": "9dbf02ad",
   "metadata": {},
   "source": [
    "This cell contains the very basics the program needs to run, i.e., directories and specifying whether to export the final output."
   ]
  },
  {
   "cell_type": "code",
   "execution_count": null,
   "id": "a44753a9-0932-4846-9f4c-984f7bdcb070",
   "metadata": {},
   "outputs": [],
   "source": [
    "## Specify this stuff\n",
    "filepath = 'examples/test_long.csv' # Path to your spreadsheet\n",
    "out_dir = '.'                       # Path to output folder. Filenames are specified in final cell.\n",
    "export = True                       # True to export file, False to not do that\n",
    "\n",
    "## Don't change this stuff unless you really want to\n",
    "na = 'NaN'\n",
    "src = pd.read_csv(filepath)           # Read spreadsheet as pd.DataFrame\n",
    "src = src.fillna(na)                  # Fill blank cells\n",
    "elevations = dr.elevs(src.thickness)  # Convert thickness readings to elevation readings. Change the column specified if\n",
    "                                      # you are using a custom input spreadsheet."
   ]
  },
  {
   "cell_type": "markdown",
   "id": "d914ab89",
   "metadata": {},
   "source": [
    "This cell contains the customisations that most people will want to make. These include:\n",
    "- Vertical log scale\n",
    "- Tick interval on the vertical scale\n",
    "- What labels you want to apply to the log"
   ]
  },
  {
   "cell_type": "code",
   "execution_count": null,
   "id": "0d62ba42-621f-45ac-857d-4c8a604cb02f",
   "metadata": {},
   "outputs": [],
   "source": [
    "## Definitely do specify this stuff\n",
    "vscale = 250           # Vertical scale of log in terms of x:1\n",
    "                       # (i.e., vscale of 500 makes final log where 500 mm rock corresponds to 1 mm log)\n",
    "    \n",
    "tick_interval = 20     # How many metres apart do you want your ticks to be?\n",
    "\n",
    "label = 'facies'     # Column to use as labels for units\n",
    "                       # Program also accepts 'facies' or 'number' if you just want labelling to show the facies or unit number\n",
    "                       # or None if you don't want any labels at all.\n",
    "        \n",
    "strat = 'polite'       # Labelling mode; 'polite' for labels that avoid writing on top of units,\n",
    "                       # '' for labelling everything"
   ]
  },
  {
   "cell_type": "markdown",
   "id": "e8a3e728",
   "metadata": {},
   "source": [
    "This cell contains more fiddly changes that most people won't be interested in, like where on the page to start drawing the log, and whether you want each column of the log to be a specific height."
   ]
  },
  {
   "cell_type": "code",
   "execution_count": null,
   "id": "3546c810",
   "metadata": {},
   "outputs": [],
   "source": [
    "## Probably don't bother changing this stuff\n",
    "paper = (None, None, 'letter') # Array containing the paper size to be used. If you want to change this, consult\n",
    "                               # help text in drawings.py to figure out how to.\n",
    "origin = 40                    # X and Y distance from bottom corner of page to start log in pt\n",
    "padding = 5                    # Padding around the edge of the page in pt\n",
    "column_spacing = 40            # Space between columns in pt\n",
    "line_weight = 0.5              # Line weight in pt\n",
    "manual_column_height = None    # Specify a given column height (in m of section)\n",
    "cols = None                    # Specify a number of columns"
   ]
  },
  {
   "cell_type": "markdown",
   "id": "caef7ddf",
   "metadata": {},
   "source": [
    "The cells below specify the lookup lists that are used to make everything the right shape and size in your log. The default lists can be found in the Readme for the project.\n",
    "                            \n",
    "The default canvas created by `dr.canvas` is portrait US letter. If you wish to create alternatives to better suit your application, you are referred to the `drawings.py` file and embedded help text (which I will be improving at some point). The pallette is also in the repo if you (like me, I hope) can't read hex codes.\n",
    "\n",
    "If you're unsure, just leave default as true and create your input file accordingly."
   ]
  },
  {
   "cell_type": "code",
   "execution_count": null,
   "id": "e7565343",
   "metadata": {},
   "outputs": [],
   "source": [
    "default = True\n",
    "\n",
    "if(default is True):\n",
    "    gs_codes, gs_widths = dr.grainsize()\n",
    "    fa_codes, fa_colors = dr.faciesList()\n",
    "    canv = dr.canvas(paper[0],paper[1],paper[2])\n",
    "else:\n",
    "    gs_codes = []\n",
    "    gs_widths = []\n",
    "    fa_codes = []\n",
    "    fa_colors = []\n",
    "    \n",
    "    gs_codes, gs_widths = dr.grainsize(gs_codes, gs_widths, wunit='mm')\n",
    "    fa_codes, fa_colors = dr.faciesList(fa_codes, fa_colors)\n",
    "    canv = dr.canvas(paper[0],paper[1],paper[2])"
   ]
  },
  {
   "cell_type": "markdown",
   "id": "e895615f",
   "metadata": {},
   "source": [
    "# Draw the images\n",
    "This is where the actual generation takes place. It's normally pretty snappy, but I haven't tested for more than about 500 units so your mileage may vary."
   ]
  },
  {
   "cell_type": "markdown",
   "id": "ddc79825",
   "metadata": {},
   "source": [
    "## Generate a key\n",
    "The below cell generates a simple key with all the colors you have used. By default, it uses a slightly customised version of the function. If you're interested in customising the key using this program, check the help for the drawKey function in `drawings.py.`"
   ]
  },
  {
   "cell_type": "code",
   "execution_count": null,
   "id": "7f918749",
   "metadata": {},
   "outputs": [],
   "source": [
    "default_key = True\n",
    "\n",
    "if(default_key is True):\n",
    "    key = dr.drawKey(fa_codes, fa_colors, custom_rows = 'default')\n",
    "else:\n",
    "    key = dr.drawKey(fa_codes, fa_colors)"
   ]
  },
  {
   "cell_type": "markdown",
   "id": "80aaee3e",
   "metadata": {},
   "source": [
    "## Generate the log\n",
    "The cell below draws the final log. This function is complicated and not very user friendly. I plan to improve this at some point, but for now I'd strongly recommend just working with the defaults. You are, of course, welcome to check the source code too to see what all the options actually do."
   ]
  },
  {
   "cell_type": "code",
   "execution_count": null,
   "id": "39bb950f",
   "metadata": {},
   "outputs": [],
   "source": [
    "%%time\n",
    "\n",
    "log = dr.drawLog(elevations, vscale,\n",
    "             src.gs_base, src.gs_top, src.code,\n",
    "             gs_codes, gs_widths, fa_codes, fa_colors, canv,\n",
    "             orig = origin, pad = padding, colspc = column_spacing, lnwgt = line_weight,\n",
    "             man_colheight = manual_column_height, columns = cols, ticks = tick_interval,\n",
    "             labels = label, label_strat = strat, nachar = na)"
   ]
  },
  {
   "cell_type": "code",
   "execution_count": null,
   "id": "8f18cb48",
   "metadata": {},
   "outputs": [],
   "source": [
    "if export is True:\n",
    "    log.saveSvg(f'{out_dir}/log.svg')\n",
    "    key.saveSvg(f'{out_dir}/key.svg')"
   ]
  }
 ],
 "metadata": {
  "kernelspec": {
   "display_name": "Python 3 (ipykernel)",
   "language": "python",
   "name": "python3"
  },
  "language_info": {
   "codemirror_mode": {
    "name": "ipython",
    "version": 3
   },
   "file_extension": ".py",
   "mimetype": "text/x-python",
   "name": "python",
   "nbconvert_exporter": "python",
   "pygments_lexer": "ipython3",
   "version": "3.8.13"
  }
 },
 "nbformat": 4,
 "nbformat_minor": 5
}
