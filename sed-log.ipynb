{
 "cells": [
  {
   "cell_type": "code",
   "execution_count": 1,
   "id": "25def28e",
   "metadata": {},
   "outputs": [
    {
     "name": "stderr",
     "output_type": "stream",
     "text": [
      "C:\\Users\\RGHS\\anaconda3\\lib\\site-packages\\drawSvg\\raster.py:18: RuntimeWarning: Failed to import CairoSVG. drawSvg will be unable to output PNG or other raster image formats. See https://github.com/cduck/drawSvg#prerequisites for more details.\n",
      "Original OSError: no library called \"cairo\" was found\n",
      "cannot load library 'C:\\GTK\\bin\\libcairo-2.dll': error 0xc1\n",
      "cannot load library 'libcairo.so.2': error 0x7e\n",
      "cannot load library 'libcairo.2.dylib': error 0x7e\n",
      "cannot load library 'libcairo-2.dll': error 0xc1\n",
      "  warnings.warn(msg, RuntimeWarning)\n"
     ]
    }
   ],
   "source": [
    "import numpy as np\n",
    "import pandas as pd\n",
    "import drawings as dr"
   ]
  },
  {
   "cell_type": "code",
   "execution_count": 1,
   "id": "a44753a9-0932-4846-9f4c-984f7bdcb070",
   "metadata": {},
   "outputs": [],
   "source": [
    "filepath = 'testdata.csv'"
   ]
  },
  {
   "cell_type": "code",
   "execution_count": null,
   "id": "0d62ba42-621f-45ac-857d-4c8a604cb02f",
   "metadata": {},
   "outputs": [],
   "source": [
    "vscale = 500\n",
    "ticks = 10\n",
    "\n",
    "origin = 40\n",
    "padding = 5\n",
    "column_spacing = 40\n",
    "line_weight = 0.5\n",
    "manual_column_height = None\n",
    "cols = None"
   ]
  },
  {
   "cell_type": "code",
   "execution_count": null,
   "id": "31fa189b-3b26-4093-addf-935e8e4aa0c5",
   "metadata": {},
   "outputs": [],
   "source": [
    "src = pd.read_csv(filepath)\n",
    "src = src.fillna('NaN')\n",
    "elevations = dr.elevs(src.thickness)"
   ]
  },
  {
   "cell_type": "code",
   "execution_count": 2,
   "id": "42f69bc9",
   "metadata": {},
   "outputs": [],
   "source": [
    "default = True"
   ]
  },
  {
   "cell_type": "code",
   "execution_count": 3,
   "id": "e7565343",
   "metadata": {},
   "outputs": [],
   "source": [
    "if(default is True):\n",
    "    gs_codes, gs_widths = dr.grainsize()\n",
    "    fa_codes, fa_colors = dr.faciesList()\n",
    "    canv = dr.canvas()\n",
    "else:\n",
    "    "
   ]
  },
  {
   "cell_type": "code",
   "execution_count": null,
   "id": "39bb950f",
   "metadata": {},
   "outputs": [],
   "source": []
  }
 ],
 "metadata": {
  "kernelspec": {
   "display_name": "Python 3 (ipykernel)",
   "language": "python",
   "name": "python3"
  },
  "language_info": {
   "codemirror_mode": {
    "name": "ipython",
    "version": 3
   },
   "file_extension": ".py",
   "mimetype": "text/x-python",
   "name": "python",
   "nbconvert_exporter": "python",
   "pygments_lexer": "ipython3",
   "version": "3.8.11"
  }
 },
 "nbformat": 4,
 "nbformat_minor": 5
}
