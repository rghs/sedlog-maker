{
 "cells": [
  {
   "cell_type": "markdown",
   "id": "898d1020",
   "metadata": {},
   "source": [
    "# Sed log maker"
   ]
  },
  {
   "cell_type": "markdown",
   "id": "d1a7163a",
   "metadata": {},
   "source": [
    "Basic program to produce sedimentary logs. See example input file for required format.\n",
    "\n",
    "Prerequisites:\n",
    "- Numpy\n",
    "- Pandas\n",
    "- drawSvg\n",
    "\n",
    "Most Python installs will include numpy and pandas by default, but probably not drawSvg. It can be obtained from PyPi as follows:\n",
    "\n",
    "`$ pip3 install drawSvg`"
   ]
  },
  {
   "cell_type": "markdown",
   "id": "f46ff53b",
   "metadata": {},
   "source": [
    "Import modules for running program. If drawings fails to import, uncomment the syspath block and make sure your present working directory is the directory this repo is cloned to. Running this cell will almost definitely throw an error about Cairo not being installed, but unless you desperately have to export your file as a PNG, you can ignore this."
   ]
  },
  {
   "cell_type": "code",
   "execution_count": 1,
   "id": "25def28e",
   "metadata": {},
   "outputs": [],
   "source": [
    "import numpy as np\n",
    "import pandas as pd\n",
    "import drawings as dr"
   ]
  },
  {
   "cell_type": "markdown",
   "id": "3d76073d",
   "metadata": {},
   "source": [
    "## Input parameters"
   ]
  },
  {
   "cell_type": "code",
   "execution_count": 2,
   "id": "a44753a9-0932-4846-9f4c-984f7bdcb070",
   "metadata": {},
   "outputs": [],
   "source": [
    "## Specify this stuff\n",
    "filepath = 'testdata.csv' # Path to your spreadsheet\n",
    "output = 'testoutput.svg' # Path to output file\n",
    "export = True             # True to export file, False to not do that\n",
    "\n",
    "## Don't change this stuff unless you really want to\n",
    "src = pd.read_csv(filepath)      # Read spreadsheet as pd.DataFrame\n",
    "src = src.fillna('NaN')          # Fill blank cells\n",
    "elevations = dr.elevs(src.thickness)"
   ]
  },
  {
   "cell_type": "code",
   "execution_count": 3,
   "id": "0d62ba42-621f-45ac-857d-4c8a604cb02f",
   "metadata": {},
   "outputs": [],
   "source": [
    "## Definitely do specify this stuff\n",
    "vscale = 500       # Vertical scale of log in terms of x:1\n",
    "                   #(i.e., vscale of 500 prints final log where 500 mm rock corresponds to 1 mm log)\n",
    "tick_interval = 20 # How many metres apart do you want your ticks to be?\n",
    "label = src.labels # Column to use as labels for units\n",
    "                   # Program also accepts 'facies' or 'number' if you just want labelling to show the facies or unit number\n",
    "                   # or None if you don't want any labels at all.\n",
    "\n",
    "## Probably don't bother changing this stuff\n",
    "origin = 40            # X and Y distance from bottom corner of page to start log in pt\n",
    "padding = 5            # Padding around the edge of the page in pt\n",
    "column_spacing = 40    # Space between columns in pt\n",
    "line_weight = 0.5      # Line weight in pt\n",
    "strat = ''       # Labelling mode; 'polite' for labels that avoid writing on top of units, '' for labelling everything\n",
    "manual_column_height = None # Specify a given column height\n",
    "cols = None            # Specify a number of columns"
   ]
  },
  {
   "cell_type": "markdown",
   "id": "caef7ddf",
   "metadata": {},
   "source": [
    "The cells below specify the lookup lists that are used to make everything the right shape and size in your log. The default lists are as follows:\n",
    "`grainsize_codes = np.array([\"NaN\",\"cl\",\"si\",\"vf\",\"f\",\"m\",\"c\",\"vc\",\"gr\",\"pebb\",\"cobb\",\"boul\"])`\n",
    "\n",
    "`grainsize_widths = np.array([7.50, 15.00, 22.50, 30.00, 33.75, 37.50, 41.25, 45.00, 52.50, 60.00, 67.50, 75.00])`\n",
    "\n",
    "`facies_codes = np.array(\"inaccessible\",\"cov\",\n",
    "                            \"fcm\",\"fcl\",\"fcr\",\"fcrc\",\"fcrw\",\"fsm\",\"fsl\",\"fsr\",\"fsrc\",\"fsrw\",\n",
    "                            \"sm\",\"sh\",\"sp\",\"st\",\"sr\",\"src\",\"srw\",\"gmm\",\"gmmi\",\"gcm\",\"gcmi\",\"gcp\",\"gct\",\"gch\")`\n",
    "                            \n",
    "`facies_colors = np.array(\"#FFFFFF\",\"#FFFFFF\",\"#5A4854\",\"#74576A\",\"#8C627E\",\"#A57093\",\"#D998C1\",\n",
    "                            \"#666154\",\"#807969\",\"#99917D\",\"#B3A993\",\"#CCC1A7\",\"#E3AB4A\",\"#DBB75C\",\n",
    "                            \"#FDBB45\",\"#FBB672\",\"#FFCE6F\",\"#EE9621\",\"#F68C35\",\"#99834F\",\"#E5C376\",\n",
    "                            \"#661714\",\"#8D211D\",\"#B22C26\",\"#D93328\",\"#EF4130\")`\n",
    "                            \n",
    "The default canvas created by `dr.canvas` is portrait US letter. If you wish to create alternatives to better suit your application, you are referred to the `drawings.py` file and embedded help text (which I will be improving at some point). The pallette is also in the repo if you (like me, I hope) can't read hex codes.\n",
    "\n",
    "If you're unsure, just leave default as true and create your input file accordingly."
   ]
  },
  {
   "cell_type": "code",
   "execution_count": 4,
   "id": "42f69bc9",
   "metadata": {},
   "outputs": [],
   "source": [
    "default = True"
   ]
  },
  {
   "cell_type": "code",
   "execution_count": 5,
   "id": "e7565343",
   "metadata": {},
   "outputs": [],
   "source": [
    "if(default is True):\n",
    "    gs_codes, gs_widths = dr.grainsize()\n",
    "    fa_codes, fa_colors = dr.faciesList()\n",
    "    canv = dr.canvas()\n",
    "else:\n",
    "    gs_codes = []\n",
    "    gs_widths = []\n",
    "    fa_codes = []\n",
    "    fa_colors = []\n",
    "    canvas_x = 1\n",
    "    canvas_y = 1\n",
    "    canv = dr.canvas(canvas_x, canvas_y)"
   ]
  },
  {
   "cell_type": "markdown",
   "id": "80aaee3e",
   "metadata": {},
   "source": [
    "## Generate the log\n",
    "\n",
    "This is where the actual generation takes place. It's normally pretty snappy, but I haven't tested for more than about 500 units so your mileage may vary."
   ]
  },
  {
   "cell_type": "code",
   "execution_count": 6,
   "id": "39bb950f",
   "metadata": {},
   "outputs": [
    {
     "name": "stdout",
     "output_type": "stream",
     "text": [
      "CPU times: user 122 ms, sys: 92 µs, total: 122 ms\n",
      "Wall time: 122 ms\n"
     ]
    }
   ],
   "source": [
    "%%time\n",
    "\n",
    "log = dr.drawLog(elevations, vscale,\n",
    "             src.gs_base, src.gs_top, src.code,\n",
    "             gs_codes, gs_widths, fa_codes, fa_colors, canv,\n",
    "             orig = origin, pad = padding, colspc = column_spacing, lnwgt = line_weight,\n",
    "             man_colheight = manual_column_height, columns = cols, ticks = tick_interval,\n",
    "             labels = label, label_strat = strat, nachar = 'NaN')"
   ]
  },
  {
   "cell_type": "code",
   "execution_count": 7,
   "id": "8f18cb48",
   "metadata": {},
   "outputs": [],
   "source": [
    "if export is True:\n",
    "    log.saveSvg(output)"
   ]
  }
 ],
 "metadata": {
  "kernelspec": {
   "display_name": "Python 3 (ipykernel)",
   "language": "python",
   "name": "python3"
  },
  "language_info": {
   "codemirror_mode": {
    "name": "ipython",
    "version": 3
   },
   "file_extension": ".py",
   "mimetype": "text/x-python",
   "name": "python",
   "nbconvert_exporter": "python",
   "pygments_lexer": "ipython3",
   "version": "3.10.2"
  }
 },
 "nbformat": 4,
 "nbformat_minor": 5
}
